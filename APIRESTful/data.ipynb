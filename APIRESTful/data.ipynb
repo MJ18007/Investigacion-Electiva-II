{
 "cells": [
  {
   "cell_type": "markdown",
   "id": "79cc7751",
   "metadata": {},
   "source": [
    "# API, API REST y API RESTful"
   ]
  },
  {
   "cell_type": "markdown",
   "id": "03cea4f4",
   "metadata": {},
   "source": [
    "### ¿Qué es una API?"
   ]
  },
  {
   "cell_type": "markdown",
   "id": "d7edef63",
   "metadata": {},
   "source": [
    "-Application Programming Interface o, en español, Interfaz de Programación de Aplicaciones, es un conjunto de reglas y protocolos que permite que diferentes aplicaciones se comuniquen entre si para intercambiar datos, funcionalidades y servicios. Actua como un intermediario, facilitando el intercambio de datos sin necesidad de conocer los detalles internos del sistema.\n",
    "\n",
    "Ej: la API de Google Maps, que permite a otras aplicaciones o sitios web mostrar mapas y funcionalidades relacionadas con la ubicación sin necesidad de desarrollar todo desde cero."
   ]
  },
  {
   "cell_type": "markdown",
   "id": "0c537cde",
   "metadata": {},
   "source": [
    "### Funcionamiento de una API"
   ]
  },
  {
   "cell_type": "markdown",
   "id": "0db0ca20",
   "metadata": {},
   "source": [
    "Se basa en un modelo de solicitud y respuesta:\n",
    "\n",
    "1. Cliente (solicitante): Una aplicación (app movil, sitio web, etc.) necesita acceder a cierta información o funcionalidad que reside en otra aplicación o servicio. Actua como el \"cliente\" que hace una solicitud.\n",
    "\n",
    "2. Solicitud API: El cliente envía una solicitud a la API del servidor. Esta solicitud suele contener:\n",
    "\n",
    "    - Un endpoint: una URL específica que identifica el recurso o la función a la que se quiere acceder.\n",
    "    - Un metodo: un verbo (como GET, POST, PUT, DELETE en APIs REST, de la que se hablara mas adelante) que indica el tipo de accion que se quiere realizar.\n",
    "    - Encabezados (Headers): información adicional como claves de autenticacion, tipo de contenido, etc.\n",
    "    - Cuerpo (Body - opcional): datos que se envian al servidor. EJ: los datos de un nuevo usuario que se quiere crear.\n",
    "\n",
    "3. Servidor API: el servidor recibe la solicitud, la procesa (autentica al cliente, valida los datos, realiza la operacion solicitada) y luego envia una respuesta de vuelta al cliente.\n",
    "\n",
    "4. Respuesta API: la respuesta del servidor suele incluir:\n",
    "\n",
    "    - Un codigo de estado: indica el resultado de la solicitud. EJ: 200 OK, 404 Not Found, 500 Internal Server Error.\n",
    "    - Encabezados (Headers): informacion adicional.\n",
    "    - Cuerpo (Body - opcional): los datos solicitados o un mensaje de confirmación/error.\n",
    "\n"
   ]
  },
  {
   "cell_type": "markdown",
   "id": "6815c5a6",
   "metadata": {},
   "source": [
    "### Caracteristicas"
   ]
  },
  {
   "cell_type": "markdown",
   "id": "0b4a1f3d",
   "metadata": {},
   "source": [
    "- Interoperabilidad: permiten que sistemas distintos (escritos en diferentes lenguajes) trabajen juntos.\n",
    "\n",
    "- Abstraccion: oculta la complejidad interna. Los desarrolladores solo necesitan saber cómo usar la API, no cómo se implementa internamente el servicio.\n",
    "\n",
    "- Lenguaje-agnóstico: usa formatos estandar como JSON o XML.\n",
    "\n",
    "- Escalabilidad: facilita la integración de nuevos servicios sin tener que modificar el código existente."
   ]
  },
  {
   "cell_type": "markdown",
   "id": "f85af482",
   "metadata": {},
   "source": [
    "### ¿Qué es una API REST?"
   ]
  },
  {
   "cell_type": "markdown",
   "id": "61099032",
   "metadata": {},
   "source": [
    "-Es un tipo de API que sigue los principios del estilo arquitectonico REST (Representational State Transfer o, en español, Transferencia de Estado Representacional), permitiendo que diferentes aplicaciones se comuniquen entre si a traves de la web, utilizando el protocolo HTTP."
   ]
  },
  {
   "cell_type": "markdown",
   "id": "dea684ef",
   "metadata": {},
   "source": [
    "#### ¿Qué es REST?"
   ]
  },
  {
   "cell_type": "markdown",
   "id": "0f0036f4",
   "metadata": {},
   "source": [
    "-Es un estilo arquitectónico para construir sistemas de software que permite la comunicación entre cliente y servidor a través de una interfaz uniforme. Esto permite que los sistemas distribuidos sean mas escalables, eficientes y fiables. Utiliza un formatos especificos, como JSON y XML.\n",
    "\n",
    "REST se apoya en HTTP, los verbos que utiliza son exactamente los mismos, con ellos se puede hacer GET, POST, PUT y DELETE.\n",
    "\n",
    "El formato mas usado es JSON, ya que es mas ligero y legible en comparacion al formato XML."
   ]
  },
  {
   "cell_type": "markdown",
   "id": "cdc9d696",
   "metadata": {},
   "source": [
    "#### Principios de REST"
   ]
  },
  {
   "cell_type": "markdown",
   "id": "fb8cc0c3",
   "metadata": {},
   "source": [
    "1. Cliente-Servidor: separa las preocupaciones del usuario (cliente) de las del almacenamiento de datos (servidor). Esto permite que el cliente y el servidor evolucionen de forma independiente.\n",
    "\n",
    "2. Sin Estado (Stateless): cada solicitud del cliente al servidor debe contener toda la información necesaria para que el servidor la entienda y procese. El servidor no almacena ningun \"estado\" de la sesion del cliente entre solicitudes. Esto mejora la escalabilidad, ya que cualquier servidor disponible puede manejar cualquier solicitud.\n",
    "\n",
    "3. Cacheable: las respuestas del servidor deben indicar si los datos que contienen pueden ser almacenados en cache por el cliente para futuras solicitudes. Esto mejora el rendimiento y reduce la carga en el servidor.\n",
    "\n",
    "4. Interfaz Uniforme: este es el principio central de REST y lo que lo hace tan potente. Requiere una forma estandar de interactuar con los recursos, sin importar cómo estén implementados en el servidor. Implica:\n",
    "\n",
    "    - Identificación de recursos: cada recurso (un dato o una funcionalidad) se identifica de forma unica mediante un URI (Uniform Resource Identifier), que es comunmente una URL. EJ: /usuarios o /productos/123.\n",
    "    - Manipulación de recursos a traves de representaciones: los clientes interactuan con los recursos enviando y recibiendo representaciones de esos recursos, usualmente en formatos como JSON o XML. Si pides un usuario, el servidor te devuelve una representación JSON de ese usuario. Para modificarlo, envías una nueva representación JSON.\n",
    "    - Mensajes autodescriptivos: cada solicitud y respuesta contiene suficiente información para ser entendida por el receptor.\n",
    "    - HATEOAS (Hypermedia as the Engine of Application State): Un principio mas avanzado que sugiere que las representaciones de los recursos deben incluir enlaces a otros recursos relacionados, lo que permite al cliente navegar por la API de forma dinámica.\n",
    "\n",
    "5. Sistema en Capas: un cliente puede conectarse a un servidor a través de multiples intermediarios (como proxies o balanceadores de carga) sin que esto afecte su interacción o conocimiento de la API.\n",
    "\n"
   ]
  },
  {
   "cell_type": "markdown",
   "id": "585ee372",
   "metadata": {},
   "source": [
    "### Caracteristicas de una API REST"
   ]
  },
  {
   "cell_type": "markdown",
   "id": "4734498e",
   "metadata": {},
   "source": [
    "1. Basada en recursos: todo se modela como recursos identificables mediante URLs (ej: /users, /products/123).\n",
    "\n",
    "2. Sin estado (stateless): cada peticion debe contener toda la información necesaria. El servidor no guarda contexto entre peticiones.\n",
    "\n",
    "3. Usa métodos HTTP estándar: Opera mediante verbos HTTP:\n",
    "\n",
    "    - GET &rarr; Obtener datos\n",
    "\n",
    "    - POST &rarr; Crear datos\n",
    "\n",
    "    - PUT/PATCH &rarr; Actualizar datos\n",
    "\n",
    "    - DELETE &rarr; Eliminar datos\n",
    "\n",
    "4. Representación múltiple: Los datos pueden devolverse en formatos como JSON, XML, etc.\n",
    "\n",
    "5. Client-Server: Separación clara entre el cliente (frontend) y el servidor (backend).\n",
    "\n"
   ]
  },
  {
   "cell_type": "markdown",
   "id": "c4a4ebd7",
   "metadata": {},
   "source": [
    "### ¿Qué es una API RESTful?"
   ]
  },
  {
   "cell_type": "markdown",
   "id": "ca4392f8",
   "metadata": {},
   "source": [
    "-Es una API que implementa estrictamente los principios arquitectonicos REST. Es el enfoque dominante para construir APIs web modernas debido a su simplicidad, escalabilidad y adaptabilidad."
   ]
  },
  {
   "cell_type": "markdown",
   "id": "6b8ff95e",
   "metadata": {},
   "source": [
    "### Caracteristicas clave de una API RESTful"
   ]
  },
  {
   "cell_type": "markdown",
   "id": "9c26e9de",
   "metadata": {},
   "source": [
    "1. Orientación a Recursos (Resource-Oriented): una API RESTful gira en torno a los recursos, que son cualquier dato o funcionalidad al que se puede acceder. Estos recursos se identifican de forma única mediante URIs (Uniform Resource Identifiers), que suelen ser URLs amigables y descriptivas (ej., /usuarios, /productos/123). La interacción se centra en la manipulación de estos recursos (crear, leer, actualizar, eliminar) en lugar de en la ejecución de procedimientos remotos.\n",
    "\n",
    "2. Uso Semántico de Métodos HTTP: aprovechan los métodos HTTP estándar (verbos) para indicar la acción deseada sobre un recurso. Esto proporciona una interfaz uniforme y predecible.\n",
    "\n",
    "    - GET: Para leer (recuperar) un recurso o una colección de recursos.\n",
    "    - POST: Para crear un nuevo recurso.\n",
    "    - PUT: Para actualizar completamente un recurso existente o crearlo si no existe.\n",
    "    - PATCH: Para actualizar parcialmente un recurso existente.\n",
    "    - DELETE: Para eliminar un recurso.\n",
    "\n",
    "Esta correspondencia directa con las operaciones CRUD (Create, Read, Update, Delete) simplifica el diseño y la comprensión.\n",
    "\n",
    "3. Sin Estado (Stateless): cada solicitud de un cliente al servidor debe contener toda la información necesaria para que el servidor la entienda y procese. El servidor no almacena ningún \"estado de sesión\" del cliente entre solicitudes.\n",
    "\n",
    "Esto mejora la escalabilidad (cualquier servidor puede manejar cualquier solicitud), la fiabilidad (si un servidor falla, otro puede tomar su lugar sin perder el estado) y la resiliencia.\n",
    "\n",
    "4. Interfaz Uniforme: es el principio fundamental de REST. Significa que hay una forma estándar y consistente de interactuar con los recursos, independientemente de la implementación interna del servidor. Esto incluye:\n",
    "\n",
    "    - Identificación de recursos por URI.\n",
    "    - Manipulación de recursos a través de representaciones (los clientes interactúan con los recursos enviando y recibiendo sus representaciones, típicamente en JSON o XML).\n",
    "    - Mensajes autodescriptivos, donde cada solicitud y respuesta contiene suficiente información para ser entendida.\n",
    "    - HATEOAS (Hypermedia as the Engine of Application State): idealmente, las respuestas de la API deberían incluir enlaces a otros recursos relacionados, permitiendo al cliente navegar por la API de forma dinámica. Aunque es un principio clave de REST, a menudo es el menos implementado en la práctica.\n",
    "\n",
    "5. Comunicación Cliente-Servidor Desacoplada: el cliente y el servidor son componentes independientes. Cada uno puede evolucionar y ser desarrollado por separado, siempre que la interfaz de la API se mantenga consistente. Esto permite una mayor flexibilidad en la elección de tecnologías y metodologías para cada lado.\n",
    "\n",
    "6. Cacheable: las respuestas del servidor deben indicar si los datos pueden ser almacenados en caché por el cliente. Esto ayuda a reducir la latencia, la carga en el servidor y el consumo de ancho de banda al evitar solicitudes innecesarias para datos que no han cambiado.\n",
    "\n",
    "7. Sistema en Capas (Layered System): un cliente puede conectarse a un servidor a través de múltiples intermediarios (como proxies, balanceadores de carga o firewalls) sin que el cliente se dé cuenta. Esto mejora la escalabilidad y seguridad del sistema.\n",
    "\n",
    "8. Códigos de Estado HTTP Estándar: las APIs RESTful utilizan los códigos de estado HTTP para comunicar el resultado de una solicitud de manera clara y estandarizada (ej., 200 OK para éxito, 201 Created para un recurso nuevo, 404 Not Found para un recurso inexistente, 500 Internal Server Error para un problema en el servidor).\n",
    "\n",
    "9. Formatos de Datos Flexibles: aunque el formato más común y preferido para la transmisión de datos es JSON debido a su ligereza y facilidad de parseo en JavaScript, las APIs RESTful pueden soportar otros formatos como XML."
   ]
  },
  {
   "cell_type": "markdown",
   "id": "4eb4df28",
   "metadata": {},
   "source": [
    "### Cuadro comparativo de API, API REST y API RESTful"
   ]
  },
  {
   "cell_type": "markdown",
   "id": "c58ce00d",
   "metadata": {},
   "source": [
    "|Características|\tAPI\t|API REST\t|API RESTful|\n",
    "|:------------|:---------|:----------|:-----------|\n",
    "|Definición|\tInterfaz para comunicación entre sistemas.\t|API que sigue algunos principios REST.\t|API que cumple estrictamente todos los principios REST.|\n",
    "|Base Arquitectónica|\tCualquier estilo (SOAP, RPC, etc.).| Estilo REST (pero no necesariamente todos sus principios).|100% REST (incluye HATEOAS, stateless, etc.).|\n",
    "Protocolo|\tCualquiera (HTTP, gRPC, WebSockets).|\tHTTP/S.|\tHTTP/S.|\n",
    "|Métodos HTTP|\tNo siempre los usa.\t|Usa GET, POST, PUT, DELETE.|\tUsa todos los métodos HTTP de manera estricta.|\n",
    "|Estructura de URIs|\tVaría (puede usar verbos).|\tURIs con sustantivos. EJ: /users.|\tURIs jerárquicas y autodescriptivas. EJ: /api/v1/users.|\n",
    "|Stateless|\tOpcional.|\tGeneralmente sí.|\tObligatorio (cada petición es independiente).|\n",
    "|Formato de Datos|\tCualquiera (XML, JSON, binario).|\tJSON, XML o texto plano.|\tJSON (predominante) + otros, con negociación de contenido.\n",
    "|HATEOAS\t|No aplica.|\tRaro (opcional).|\tRequerido (respuestas incluyen enlaces a recursos relacionados).|\n",
    "|Uso Típico|\tSistemas legacy (bancos, telecom).|APIs web modernas (sin hipermedia).|\tAPIs web altamente escalables y auto-descubribles.|\n",
    "|Ejemplo| GET /productos  | Request: {\"nombre\": \"Laptop\", \"precio\": 1200} <br> Response: {\"id\": 5, \"nombre\": \"Laptop\"}  |  POST /productos |"
   ]
  }
 ],
 "metadata": {
  "language_info": {
   "name": "python"
  }
 },
 "nbformat": 4,
 "nbformat_minor": 5
}
