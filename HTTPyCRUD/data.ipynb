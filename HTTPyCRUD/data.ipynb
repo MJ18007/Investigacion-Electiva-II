{
 "cells": [
  {
   "cell_type": "markdown",
   "id": "4414dd87",
   "metadata": {},
   "source": [
    "# Diferencias entre HTTP y CRUD"
   ]
  },
  {
   "cell_type": "markdown",
   "id": "61cb502c",
   "metadata": {},
   "source": [
    "### ¿Qué es HTTP?"
   ]
  },
  {
   "cell_type": "markdown",
   "id": "d9df20da",
   "metadata": {},
   "source": [
    "-Hypertext Transfer Protocol o, en español, Protocolo de Transferencia de Hipertexto, es un protocolo de comunicacion que permite la transferencia de datos entre clientes (como los navegadores web) y servidores web, facilitando la solicitud y la recepcion de recursos como las paginas web, imagenes, videos, etc. Es esencial para el funcionamiento de la WWW (World Wide Web), ya que permite la carga y la visualizacion del contenido en internet.\n",
    "\n",
    "Es un protocolo \"sin estado\", ya que cada solicitud es independiente de las anteriores y normalmente el servidor no guarda informacion sobre interacciones previas, a menos a que se usen cookies o sesiones en la pagina web."
   ]
  },
  {
   "cell_type": "markdown",
   "id": "1f6d236a",
   "metadata": {},
   "source": [
    "#### Caracteristicas de HTTP"
   ]
  },
  {
   "cell_type": "markdown",
   "id": "4991d8a4",
   "metadata": {},
   "source": [
    "1. Basado en texto: las solicitudes y las respuestas HTTP se intercambian como texto legible, esto facilita la depuracion. Pero en versiones recientes, como HTTP/2, se intercambien como texto binario para una mayor eficiencia.\n",
    "\n",
    "2. Sin estado (stateless): cada solicitud es independiente, y el servidor no suele guardar la informacion de conexiones anteriores, a menos que se trate usen cookies o sesiones.\n",
    "\n",
    "3. Soporta diferentes metodos:\n",
    "\n",
    "    - GET: se usa para solicitar recursos. Ej: cargar una pagina web.\n",
    "    - POST: se usa para enviar datos. Ej: para un registro.\n",
    "    - PUT: se usa para actualizar recursos. Ej: modificar un perfil de usuario.\n",
    "    - DELETE: se usa para eliminar recursos. Ej: borrar un archivo.\n",
    "    - PATCH: se usa para actualizar parcialmente los recursos. Ej: editar un campo especifico.\n",
    "\n",
    "4. Cliente-Servidor: el cliente (navegador) hace una solicitud de recursos a un servidor.\n",
    "\n",
    "5. Codigos de estado:\n",
    "\n",
    "    - Respuestas informativas (100–199),\n",
    "    - Respuestas satisfactorias (200-299).\n",
    "    - Redirecciones (300-399).\n",
    "    - Errores de los clientes (400-499).\n",
    "    - Errores en los servidores (500-599)."
   ]
  },
  {
   "cell_type": "markdown",
   "id": "aaa927a3",
   "metadata": {},
   "source": [
    "### ¿Qué es CRUD?"
   ]
  },
  {
   "cell_type": "markdown",
   "id": "1f07d008",
   "metadata": {},
   "source": [
    "-Es un acronimo sobre las 4 operaciones basicas utilizadas para interactuar con un sistema de gestion de datos, como una base de datos o una aplicacion que almacena informacion, estas operaciones son:\n",
    "\n",
    "1. **C**reate (Crear) &rarr; Para agregar nuevos datos o registros.\n",
    "2. **R**ead (Leer) &rarr; Para consultar los datos existentes o recuperarlos.\n",
    "3. **U**pdate (Actualizar) &rarr; Para modificar los datos.\n",
    "4. **D**elete (Eliminar) &rarr; Para borrar datos.\n",
    "\n",
    "En el desarrollo web, especialmente al construir APIs RESTful, kas operaciones CRUD se mapean de manera natural a los metodos HTTP:\n",
    "\n",
    "- Create &rarr; POST.\n",
    "- Read &rarr; GET.\n",
    "- Update &rarr; PUT, PATCH.\n",
    "- Delete &rarr; DELETE."
   ]
  },
  {
   "cell_type": "markdown",
   "id": "4956a858",
   "metadata": {},
   "source": [
    "### Diferencias entre HTTP y CRUD"
   ]
  },
  {
   "cell_type": "markdown",
   "id": "a6a8f7cd",
   "metadata": {},
   "source": [
    "| Aspectos | HTTP | CRUD |\n",
    "|:------------|:------------|:------------|\n",
    "| Definicion  | Es un protocolo de comunicacion usado para la transferencia de datos en la web (navegador &rarr; servidor). Define el cómo se envian y se reciben los datos solicitados (documentos HTML, imagenes, videos, etc), EJ: **GET /index.html** | Es es conjunto de operaciones basicas para gestionar los datos en una base de datos. Define qué tipo de accion se realiza sobre los datos (crear, consultar, modificar o eliminar) |\n",
    "| Proposito   | Transportar informacion entre los clientes y los servidores. EJ: paginas web, descargas, etc. | Gestionar los datos en aplicaciones. EJ: bases de datos. | \n",
    "| Componentes claves | - Metodos: GET, POST, PUT, DELETE. - Codigos de estado: 1xx, 2xx, 3xx, 4xx, 5xx. | - Operaciones: Create, Read, Update, Delete. - Lenguajes: SQL. NoSQL. Llamadas a APIs.  | \n",
    "| Se usa en   | Navegadores web. APIs REST/GraphQL. Descarga de archivos | Bases de datos (SQL/NoSQL). Backend. Descarga de archivos  |\n",
    "| Independencia | Su existencia es independiente de CRUD  | Su existencia es independiente de HTTP  | \n",
    "| Ejemplo de uso fuera de la web | Comunicacion entre dispositivos de una red local. Apps de escritorio | Apps de movil (como Contactos). Base de datos local en una app de escritorio. Etc  | \n",
    "| Relacion | Los metodos HTTP (GET, POST, PUT, DELETE, PATCH) se pueden utilizar para implementar las operaciones CRUD en APIs RESTful  | Las operaciones de datos (CRUD) pueden implementarse usando varios protocolos, incluyendo HTTP| \n",
    "|Nivel  | Nivel de aplicacion (el cómo se comunican los programas) | Nivel logico/funcional (qué hacen los programas con los datos)|"
   ]
  }
 ],
 "metadata": {
  "language_info": {
   "name": "python"
  }
 },
 "nbformat": 4,
 "nbformat_minor": 5
}
